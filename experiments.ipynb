{
 "cells": [
  {
   "cell_type": "code",
   "execution_count": null,
   "metadata": {},
   "outputs": [],
   "source": [
    "import pandas as pd\n",
    "from sklearn.model_selection import train_test_split\n",
    "from sklearn.preprocessing import StandardScaler, LabelEncoder\n",
    "import pickle"
   ]
  },
  {
   "cell_type": "code",
   "execution_count": null,
   "metadata": {},
   "outputs": [],
   "source": [
    "data = pd.read_csv('WA_Fn-UseC_-Telco-Customer-Churn.csv')\n",
    "# data.head()"
   ]
  },
  {
   "cell_type": "code",
   "execution_count": null,
   "metadata": {},
   "outputs": [],
   "source": [
    "## Preprocess the data\n",
    "### Drop irrelevant columns\n",
    "columns_to_drop = ['customerID']\n",
    "data = data.drop(columns=columns_to_drop, axis=1)\n",
    "# data.head()"
   ]
  },
  {
   "cell_type": "code",
   "execution_count": null,
   "metadata": {},
   "outputs": [],
   "source": [
    "# Encode categorical data - gender\n",
    "label_encoder_gender = LabelEncoder()\n",
    "data['gender'] = label_encoder_gender.fit_transform(data['gender'])\n",
    "# data.head()"
   ]
  },
  {
   "cell_type": "code",
   "execution_count": null,
   "metadata": {},
   "outputs": [],
   "source": [
    "#Encode categorical data - Partner\n",
    "label_encoder_partner = LabelEncoder()\n",
    "data['Partner']=label_encoder_partner.fit_transform(data['Partner'])\n",
    "# data.head()"
   ]
  },
  {
   "cell_type": "code",
   "execution_count": null,
   "metadata": {},
   "outputs": [],
   "source": [
    "#Encode categorical data - Dependents\n",
    "label_encoder_dependents = LabelEncoder()\n",
    "data['Dependents']=label_encoder_dependents.fit_transform(data['Dependents'])\n",
    "# data.head()"
   ]
  },
  {
   "cell_type": "code",
   "execution_count": null,
   "metadata": {},
   "outputs": [],
   "source": [
    "#Encode categorical data - PhoneService\n",
    "label_encoder_phone_service = LabelEncoder()\n",
    "data['PhoneService']=label_encoder_phone_service.fit_transform(data['PhoneService'])\n",
    "# data.head()"
   ]
  },
  {
   "cell_type": "code",
   "execution_count": null,
   "metadata": {},
   "outputs": [],
   "source": [
    "## Apply one hot encoding on MultipleLines\n",
    "from sklearn.preprocessing import OneHotEncoder\n",
    "onehot_encoder_multi_lines = OneHotEncoder()\n",
    "geo_encoded_array = onehot_encoder_multi_lines.fit_transform(data[['MultipleLines']]).toarray()\n",
    "# geo_encoder.toarray()\n",
    "geo_encoder_feature_names= onehot_encoder_multi_lines.get_feature_names_out([\"MultipleLines\"])\n",
    "geo_encoder_feature_names = [name.replace(' ', '_') for name in geo_encoder_feature_names]\n",
    "geo_encoded_df = pd.DataFrame(geo_encoded_array, columns=geo_encoder_feature_names)\n",
    "# geo_encoded_df.head()\n",
    "data = pd.concat([data.drop(\"MultipleLines\", axis=1), geo_encoded_df], axis=1)\n",
    "# data"
   ]
  },
  {
   "cell_type": "code",
   "execution_count": null,
   "metadata": {},
   "outputs": [],
   "source": [
    "## Apply one hot encoding on InternetService\n",
    "onehot_encoder_internet_service = OneHotEncoder()\n",
    "intrenet_service_encoded_array = onehot_encoder_internet_service.fit_transform(data[['InternetService']]).toarray()\n",
    "internet_service_feature_names= onehot_encoder_internet_service.get_feature_names_out([\"InternetService\"])\n",
    "internet_service_feature_names = [name.replace(' ', '_') for name in internet_service_feature_names]\n",
    "internet_service_encoded_df = pd.DataFrame(intrenet_service_encoded_array, columns=internet_service_feature_names)\n",
    "# internet_service_encoded_df.head()\n",
    "data = pd.concat([data.drop(\"InternetService\", axis=1), internet_service_encoded_df], axis=1)\n",
    "# data.head()\n"
   ]
  },
  {
   "cell_type": "code",
   "execution_count": null,
   "metadata": {},
   "outputs": [],
   "source": [
    "## Apply one hot encoding on OnlineSecurity\n",
    "onehot_encoder_online_security = OneHotEncoder()\n",
    "online_security_encoded_array = onehot_encoder_online_security.fit_transform(data[['OnlineSecurity']]).toarray()\n",
    "online_security_feature_names= onehot_encoder_online_security.get_feature_names_out([\"OnlineSecurity\"])\n",
    "online_security_feature_names = [name.replace(' ', '_') for name in online_security_feature_names]\n",
    "online_security_encoded_df = pd.DataFrame(online_security_encoded_array, columns=online_security_feature_names)\n",
    "# online_security_encoded_df.head()\n",
    "data = pd.concat([data.drop(\"OnlineSecurity\", axis=1), online_security_encoded_df], axis=1)\n",
    "# data.head()"
   ]
  },
  {
   "cell_type": "code",
   "execution_count": null,
   "metadata": {},
   "outputs": [],
   "source": [
    "## Apply one hot encoding on OnlineBackup\n",
    "onehot_encoder_online_backup = OneHotEncoder()\n",
    "online_backup_encoded_array = onehot_encoder_online_backup.fit_transform(data[['OnlineBackup']]).toarray()\n",
    "online_backup_feature_names= onehot_encoder_online_backup.get_feature_names_out([\"OnlineBackup\"])\n",
    "online_backup_feature_names = [name.replace(' ', '_') for name in online_backup_feature_names]\n",
    "online_backup_encoded_df = pd.DataFrame(online_backup_encoded_array, columns=online_backup_feature_names)\n",
    "# online_backup_encoded_df.head()\n",
    "data = pd.concat([data.drop(\"OnlineBackup\", axis=1), online_backup_encoded_df], axis=1)\n",
    "# data.head()"
   ]
  },
  {
   "cell_type": "code",
   "execution_count": null,
   "metadata": {},
   "outputs": [],
   "source": [
    "## Apply one hot encoding on DeviceProtection\n",
    "onehot_encoder_device_protection = OneHotEncoder()\n",
    "device_protection_encoded_array = onehot_encoder_device_protection.fit_transform(data[['DeviceProtection']]).toarray()\n",
    "device_protection_feature_names= onehot_encoder_device_protection.get_feature_names_out([\"DeviceProtection\"])\n",
    "device_protection_feature_names = [name.replace(' ', '_') for name in device_protection_feature_names]\n",
    "device_protection_encoded_df = pd.DataFrame(device_protection_encoded_array, columns=device_protection_feature_names)\n",
    "# device_protection_encoded_df.head()\n",
    "data = pd.concat([data.drop(\"DeviceProtection\", axis=1), device_protection_encoded_df], axis=1)\n",
    "# data.head()"
   ]
  },
  {
   "cell_type": "code",
   "execution_count": null,
   "metadata": {},
   "outputs": [],
   "source": [
    "## Apply one hot encoding on TechSupport\n",
    "onehot_encoder_tech_support = OneHotEncoder()\n",
    "tech_support_encoded_array = onehot_encoder_tech_support.fit_transform(data[['TechSupport']]).toarray()\n",
    "tech_support_feature_names= onehot_encoder_tech_support.get_feature_names_out([\"TechSupport\"])\n",
    "tech_support_feature_names = [name.replace(' ', '_') for name in tech_support_feature_names]\n",
    "tech_support_encoded_df = pd.DataFrame(tech_support_encoded_array, columns=tech_support_feature_names)\n",
    "# tech_support_encoded_df.head()\n",
    "data = pd.concat([data.drop(\"TechSupport\", axis=1), tech_support_encoded_df], axis=1)\n",
    "# data.head()"
   ]
  },
  {
   "cell_type": "code",
   "execution_count": null,
   "metadata": {},
   "outputs": [],
   "source": [
    "## Apply one hot encoding on StreamingTV\n",
    "onehot_encoder_streaming_tv = OneHotEncoder()\n",
    "streaming_tv_encoded_array = onehot_encoder_streaming_tv.fit_transform(data[['StreamingTV']]).toarray()\n",
    "streaming_tv_feature_names= onehot_encoder_streaming_tv.get_feature_names_out([\"StreamingTV\"])\n",
    "streaming_tv_feature_names = [name.replace(' ', '_') for name in streaming_tv_feature_names]\n",
    "streaming_tv_encoded_df = pd.DataFrame(streaming_tv_encoded_array, columns=streaming_tv_feature_names)\n",
    "# streaming_tv_encoded_df.head()\n",
    "data = pd.concat([data.drop(\"StreamingTV\", axis=1), streaming_tv_encoded_df], axis=1)\n",
    "# data.head()"
   ]
  },
  {
   "cell_type": "code",
   "execution_count": null,
   "metadata": {},
   "outputs": [],
   "source": [
    "## Apply one hot encoding on StreamingMovies\n",
    "onehot_encoder_streaming_movies = OneHotEncoder()\n",
    "streaming_movies_encoded_array = onehot_encoder_streaming_movies.fit_transform(data[['StreamingMovies']]).toarray()\n",
    "streaming_movies_feature_names= onehot_encoder_streaming_movies.get_feature_names_out([\"StreamingMovies\"])\n",
    "streaming_movies_feature_names = [name.replace(' ', '_') for name in streaming_movies_feature_names]\n",
    "streaming_movies_encoded_df = pd.DataFrame(streaming_movies_encoded_array, columns=streaming_movies_feature_names)\n",
    "# streaming_movies_encoded_df.head()\n",
    "data = pd.concat([data.drop(\"StreamingMovies\", axis=1), streaming_movies_encoded_df], axis=1)\n",
    "data.head()"
   ]
  },
  {
   "cell_type": "code",
   "execution_count": null,
   "metadata": {},
   "outputs": [],
   "source": [
    "## Apply one hot encoding on Contract\n",
    "onehot_encoder_contract = OneHotEncoder()\n",
    "contract_encoded_array = onehot_encoder_contract.fit_transform(data[['Contract']]).toarray()\n",
    "contract_feature_names= onehot_encoder_contract.get_feature_names_out([\"Contract\"])\n",
    "contract_feature_names = [name.replace(' ', '_') for name in contract_feature_names]\n",
    "contract_encoded_df = pd.DataFrame(contract_encoded_array, columns=contract_feature_names)\n",
    "# contract_encoded_df.head()\n",
    "data = pd.concat([data.drop(\"Contract\", axis=1), contract_encoded_df], axis=1)\n",
    "data.head()"
   ]
  },
  {
   "cell_type": "code",
   "execution_count": null,
   "metadata": {},
   "outputs": [],
   "source": [
    "#Encode categorical data - PaperlessBilling\n",
    "label_encoder_paperless_billing = LabelEncoder()\n",
    "data['PaperlessBilling']=label_encoder_paperless_billing.fit_transform(data['PaperlessBilling'])\n",
    "data.head()"
   ]
  },
  {
   "cell_type": "code",
   "execution_count": null,
   "metadata": {},
   "outputs": [],
   "source": [
    "## Apply one hot encoding on PaymentMethod\n",
    "onehot_encoder_payment_method = OneHotEncoder()\n",
    "payment_method_encoded_array = onehot_encoder_payment_method.fit_transform(data[['PaymentMethod']]).toarray()\n",
    "payment_method_feature_names= onehot_encoder_payment_method.get_feature_names_out([\"PaymentMethod\"])\n",
    "payment_method_feature_names = [name.replace(' ', '_') for name in payment_method_feature_names]\n",
    "payment_method_encoded_df = pd.DataFrame(payment_method_encoded_array, columns=payment_method_feature_names)\n",
    "# payment_method_encoded_df.head()\n",
    "data = pd.concat([data.drop(\"PaymentMethod\", axis=1), payment_method_encoded_df], axis=1)\n",
    "data.head()"
   ]
  },
  {
   "cell_type": "code",
   "execution_count": null,
   "metadata": {},
   "outputs": [],
   "source": [
    "#Encode target data - churn\n",
    "label_encoder_churn = LabelEncoder()\n",
    "data['Churn']=label_encoder_churn.fit_transform(data['Churn'])\n",
    "data.shape"
   ]
  },
  {
   "cell_type": "code",
   "execution_count": null,
   "metadata": {},
   "outputs": [],
   "source": [
    "## Save the encoders and scalers\n",
    "with open('label_encoder_gender.pkl', 'wb') as file:\n",
    "    pickle.dump(label_encoder_gender, file)\n",
    "\n",
    "with open('label_encoder_partner.pkl', 'wb') as file:\n",
    "    pickle.dump(label_encoder_partner, file)\n",
    "\n",
    "with open('label_encoder_dependents.pkl', 'wb') as file:\n",
    "    pickle.dump(label_encoder_dependents, file)\n",
    "\n",
    "with open('label_encoder_phone_service.pkl', 'wb') as file:\n",
    "    pickle.dump(label_encoder_phone_service, file)\n",
    "\n",
    "with open('onehot_encoder_multi_lines.pkl', 'wb') as file:\n",
    "    pickle.dump(onehot_encoder_multi_lines, file)\n",
    "\n",
    "with open('onehot_encoder_internet_service.pkl', 'wb') as file:\n",
    "    pickle.dump(onehot_encoder_internet_service, file)\n",
    "\n",
    "with open('onehot_encoder_online_security.pkl', 'wb') as file:\n",
    "    pickle.dump(onehot_encoder_online_security, file)\n",
    "\n",
    "with open('onehot_encoder_online_backup.pkl', 'wb') as file:\n",
    "    pickle.dump(onehot_encoder_online_backup, file)\n",
    "\n",
    "with open('onehot_encoder_device_protection.pkl', 'wb') as file:\n",
    "    pickle.dump(onehot_encoder_device_protection, file)\n",
    "\n",
    "with open('onehot_encoder_tech_support.pkl', 'wb') as file:\n",
    "    pickle.dump(onehot_encoder_tech_support, file)\n",
    "\n",
    "with open('onehot_encoder_streaming_tv.pkl', 'wb') as file:\n",
    "    pickle.dump(onehot_encoder_streaming_tv, file)\n",
    "\n",
    "with open('onehot_encoder_streaming_movies.pkl', 'wb') as file:\n",
    "    pickle.dump(onehot_encoder_streaming_movies, file)\n",
    "\n",
    "with open('onehot_encoder_contract.pkl', 'wb') as file:\n",
    "    pickle.dump(onehot_encoder_contract, file)\n",
    "\n",
    "with open('label_encoder_paperless_billing.pkl', 'wb') as file:\n",
    "    pickle.dump(label_encoder_paperless_billing, file)\n",
    "\n",
    "with open('onehot_encoder_payment_method.pkl', 'wb') as file:\n",
    "    pickle.dump(onehot_encoder_payment_method, file)\n",
    "\n",
    "with open('label_encoder_churn.pkl', 'wb') as file:\n",
    "    pickle.dump(label_encoder_churn, file)\n",
    "\n",
    "\n"
   ]
  },
  {
   "cell_type": "code",
   "execution_count": null,
   "metadata": {},
   "outputs": [],
   "source": [
    "## Divide the data set into independent and dependent features\n",
    "X = data.drop(columns=['Churn'], axis=1)\n",
    "y=data['Churn']\n",
    "\n",
    "## Split the data in training and testing sets\n",
    "X_train,X_test,y_train,y_test=train_test_split(X, y, test_size=0.2, random_state=42)\n",
    "\n",
    "## Scale the features\n",
    "scaler = StandardScaler()\n",
    "X_train = scaler.fit_transform(X_train)\n",
    "X_test = scaler.transform(X_test)"
   ]
  },
  {
   "cell_type": "code",
   "execution_count": null,
   "metadata": {},
   "outputs": [],
   "source": [
    "## Save the scaler\n",
    "with open('scaler.pkl', 'wb') as file:\n",
    "    pickle.dump(scaler, file)"
   ]
  }
 ],
 "metadata": {
  "kernelspec": {
   "display_name": "Python 3",
   "language": "python",
   "name": "python3"
  },
  "language_info": {
   "codemirror_mode": {
    "name": "ipython",
    "version": 3
   },
   "file_extension": ".py",
   "mimetype": "text/x-python",
   "name": "python",
   "nbconvert_exporter": "python",
   "pygments_lexer": "ipython3",
   "version": "3.11.0"
  }
 },
 "nbformat": 4,
 "nbformat_minor": 2
}
